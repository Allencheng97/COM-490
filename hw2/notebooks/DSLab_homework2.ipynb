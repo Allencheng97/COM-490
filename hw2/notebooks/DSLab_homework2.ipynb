{
 "cells": [
  {
   "cell_type": "markdown",
   "metadata": {},
   "source": [
    "---<br>\n",
    "jupyter:<br>\n",
    "  jupytext:<br>\n",
    "    text_representation:<br>\n",
    "      extension: .py<br>\n",
    "      format_name: percent<br>\n",
    "      format_version: '1.3'<br>\n",
    "      jupytext_version: 1.13.7<br>\n",
    "  kernelspec:<br>\n",
    "    display_name: Python 3 (ipykernel)<br>\n",
    "    language: python<br>\n",
    "    name: python3<br>\n",
    "---"
   ]
  },
  {
   "cell_type": "markdown",
   "metadata": {},
   "source": [
    "%% [markdown]<br>\n",
    "# Homework 2 - Data Wrangling with Hadoop<br>\n",
    "<br>\n",
    "The goal of this assignment is to put into action the data wrangling techniques from the exercises of week-3 and week-4. We highly suggest you to finish these two exercises first and then start the homework. In this homework, we are going to reuse the same __sbb__ and __twitter__ datasets as seen before during these two weeks. <br>\n",
    "<br>\n",
    "## Hand-in Instructions<br>\n",
    "- __Due: 05.04.2022 23:59 CET__<br>\n",
    "- Fork this project as a private group project<br>\n",
    "- Verify that all your team members are listed as group members of the project<br>\n",
    "- `git push` your final verion to your group's Renku repository before the due date<br>\n",
    "- Verify that `Dockerfile`, `environment.yml` and `requirements.txt` are properly written and notebook is functional<br>\n",
    "- Add necessary comments and discussion to make your queries readable<br>\n",
    "<br>\n",
    "## Hive Documentation<br>\n",
    "<br>\n",
    "Hive queries: <https://cwiki.apache.org/confluence/display/Hive/LanguageManual+Select><br>\n",
    "<br>\n",
    "Hive functions: <https://cwiki.apache.org/confluence/display/Hive/LanguageManual+UDF>"
   ]
  },
  {
   "cell_type": "markdown",
   "metadata": {},
   "source": [
    "%% [markdown]<br>\n",
    "<div style=\"font-size: 100%\" class=\"alert alert-block alert-warning\"><br>\n",
    "    <b>Get yourself ready:</b> <br>\n",
    "    <br><br>\n",
    "    Before you jump into the questions, please first go through the notebook <a href='./prepare_env.ipynb'>prepare_env.ipynb</a> and make sure that your environment is properly set up.<br>\n",
    "    <br><br><br>\n",
    "    <b>Cluster Usage:</b><br>\n",
    "    <br><br>\n",
    "    As there are many of you working with the cluster, we encourage you to prototype your queries on small data samples before running them on whole datasets.<br>\n",
    "    <br><br><br>\n",
    "    <b>Try to use as much HiveQL as possible and avoid using pandas operations. Also, whenever possible, try to apply the methods you learned in class to optimize your queries to minimize the use of computing resources.</b><br>\n",
    "</div>"
   ]
  },
  {
   "cell_type": "markdown",
   "metadata": {},
   "source": [
    "%% [markdown]<br>\n",
    "## Part I: SBB/CFF/FFS Data (40 Points)<br>\n",
    "<br>\n",
    "Data source: <https://opentransportdata.swiss/en/dataset/istdaten><br>\n",
    "<br>\n",
    "In this part, you will leverage Hive to perform exploratory analysis of data published by the [Open Data Platform Swiss Public Transport](https://opentransportdata.swiss).<br>\n",
    "<br>\n",
    "Format: the dataset is originally presented as a collection of textfiles with fields separated by ';' (semi-colon). For efficiency, the textfiles have been converted into Optimized Row Columnar ([_ORC_](https://cwiki.apache.org/confluence/display/Hive/LanguageManual+ORC)) file format. <br>\n",
    "<br>\n",
    "Location: you can find the data in ORC format on HDFS at the path `/data/sbb/part_orc/istdaten`.<br>\n",
    "<br>\n",
    "The full description from opentransportdata.swiss can be found in <https://opentransportdata.swiss/de/cookbook/ist-daten/> in four languages. There may be inconsistencies or missing information between the translations.. In that case we suggest you rely on the German version and use an automated translator when necessary. We will clarify if there is still anything unclear in class and Slack. Here we remind you the relevant column descriptions:<br>\n",
    "<br>\n",
    "- `BETRIEBSTAG`: date of the trip<br>\n",
    "- `FAHRT_BEZEICHNER`: identifies the trip<br>\n",
    "- `BETREIBER_ABK`, `BETREIBER_NAME`: operator (name will contain the full name, e.g. Schweizerische Bundesbahnen for SBB)<br>\n",
    "- `PRODUKT_ID`: type of transport, e.g. train, bus<br>\n",
    "- `LINIEN_ID`: for trains, this is the train number<br>\n",
    "- `LINIEN_TEXT`,`VERKEHRSMITTEL_TEXT`: for trains, the service type (IC, IR, RE, etc.)<br>\n",
    "- `ZUSATZFAHRT_TF`: boolean, true if this is an additional trip (not part of the regular schedule)<br>\n",
    "- `FAELLT_AUS_TF`: boolean, true if this trip failed (cancelled or not completed)<br>\n",
    "- `HALTESTELLEN_NAME`: name of the stop<br>\n",
    "- `ANKUNFTSZEIT`: arrival time at the stop according to schedule<br>\n",
    "- `AN_PROGNOSE`: actual arrival time<br>\n",
    "- `AN_PROGNOSE_STATUS`: show how the actual arrival time is calcluated<br>\n",
    "- `ABFAHRTSZEIT`: departure time at the stop according to schedule<br>\n",
    "- `AB_PROGNOSE`: actual departure time<br>\n",
    "- `AB_PROGNOSE_STATUS`: show how the actual departure time is calcluated<br>\n",
    "- `DURCHFAHRT_TF`: boolean, true if the transport does not stop there<br>\n",
    "<br>\n",
    "Each line of the file represents a stop and contains arrival and departure times. When the stop is the start or end of a journey, the corresponding columns will be empty (`ANKUNFTSZEIT`/`ABFAHRTSZEIT`).<br>\n",
    "<br>\n",
    "In some cases, the actual times were not measured so the `AN_PROGNOSE_STATUS`/`AB_PROGNOSE_STATUS` will be empty or set to `PROGNOSE` and `AN_PROGNOSE`/`AB_PROGNOSE` will be empty."
   ]
  },
  {
   "cell_type": "markdown",
   "metadata": {},
   "source": [
    "%% [markdown]<br>\n",
    "__Initialization__"
   ]
  },
  {
   "cell_type": "markdown",
   "metadata": {},
   "source": [
    "%%"
   ]
  },
  {
   "cell_type": "code",
   "execution_count": null,
   "metadata": {},
   "outputs": [],
   "source": [
    "import os\n",
    "import pandas as pd\n",
    "pd.set_option(\"display.max_columns\", 50)\n",
    "import matplotlib.pyplot as plt\n",
    "# %matplotlib inline\n",
    "import plotly.express as px\n",
    "import plotly.graph_objects as go\n",
    "import warnings\n",
    "warnings.simplefilter(action='ignore', category=UserWarning)"
   ]
  },
  {
   "cell_type": "code",
   "execution_count": null,
   "metadata": {},
   "outputs": [],
   "source": [
    "username = os.environ['RENKU_USERNAME']\n",
    "hiveaddr = os.environ['HIVE_SERVER2']\n",
    "(hivehost,hiveport) = hiveaddr.split(':')\n",
    "print(\"Operating as: {0}\".format(username))"
   ]
  },
  {
   "cell_type": "markdown",
   "metadata": {},
   "source": [
    "%%"
   ]
  },
  {
   "cell_type": "code",
   "execution_count": null,
   "metadata": {},
   "outputs": [],
   "source": [
    "from pyhive import hive"
   ]
  },
  {
   "cell_type": "markdown",
   "metadata": {},
   "source": [
    "create connection"
   ]
  },
  {
   "cell_type": "code",
   "execution_count": null,
   "metadata": {},
   "outputs": [],
   "source": [
    "conn = hive.connect(host=hivehost, \n",
    "                    port=hiveport,\n",
    "                    username=username) \n",
    "# create cursor\n",
    "cur = conn.cursor()"
   ]
  },
  {
   "cell_type": "markdown",
   "metadata": {},
   "source": [
    "%% [markdown]<br>\n",
    "### a) Prepare the table - 5/40<br>\n",
    "<br>\n",
    "Complete the code in the cell below, replace all `TODO` in order to create a Hive Table of SBB Istadaten.<br>\n",
    "<br>\n",
    "The table has the following properties:<br>\n",
    "<br>\n",
    "* The table is in your database, which must have the same name as your gaspar ID<br>\n",
    "* The table name is `sbb_orc`<br>\n",
    "* The table must be external<br>\n",
    "* The table content consist of ORC files in the HDFS folder `/data/sbb/part_orc/istdaten`<br>\n",
    "* The table is _partitioned_, and the number of partitions should not exceed 50<br>\n"
   ]
  },
  {
   "cell_type": "markdown",
   "metadata": {},
   "source": [
    "%%<br>\n",
    "# Create your database if it does not exist"
   ]
  },
  {
   "cell_type": "markdown",
   "metadata": {},
   "source": [
    "query = \n",
    "<br>\n",
    "CREATE DATABASE IF NOT EXISTS {0} LOCATION '/user/{0}/hive'<br>\n",
    "format(username)"
   ]
  },
  {
   "cell_type": "code",
   "execution_count": null,
   "metadata": {},
   "outputs": [],
   "source": [
    "cur.execute(query)"
   ]
  },
  {
   "cell_type": "markdown",
   "metadata": {},
   "source": [
    "%%<br>\n",
    "# Make your database the default"
   ]
  },
  {
   "cell_type": "markdown",
   "metadata": {},
   "source": [
    "query = \n",
    "<br>\n",
    "USE {0}<br>\n",
    "format(username)"
   ]
  },
  {
   "cell_type": "code",
   "execution_count": null,
   "metadata": {},
   "outputs": [],
   "source": [
    "cur.execute(query)"
   ]
  },
  {
   "cell_type": "markdown",
   "metadata": {},
   "source": [
    "%%"
   ]
  },
  {
   "cell_type": "markdown",
   "metadata": {},
   "source": [
    "query = \n",
    "<br>\n",
    "DROP TABLE IF EXISTS {0}.sbb_orc<br>\n",
    "format(username)"
   ]
  },
  {
   "cell_type": "code",
   "execution_count": null,
   "metadata": {},
   "outputs": [],
   "source": [
    "cur.execute(query)"
   ]
  },
  {
   "cell_type": "markdown",
   "metadata": {},
   "source": [
    "%%"
   ]
  },
  {
   "cell_type": "markdown",
   "metadata": {},
   "source": [
    "query = \n",
    "<br>\n",
    "CREATE EXTERNAL TABLE {0}.sbb_orc<br>\n",
    "   # TODO<br>\n",
    "format(username)"
   ]
  },
  {
   "cell_type": "code",
   "execution_count": null,
   "metadata": {},
   "outputs": [],
   "source": [
    "cur.execute(query)"
   ]
  },
  {
   "cell_type": "markdown",
   "metadata": {},
   "source": [
    "%%"
   ]
  },
  {
   "cell_type": "markdown",
   "metadata": {},
   "source": [
    "query = \n",
    "<br>\n",
    "   # TODO<br>\n",
    "format(username)"
   ]
  },
  {
   "cell_type": "code",
   "execution_count": null,
   "metadata": {},
   "outputs": [],
   "source": [
    "cur.execute(query)"
   ]
  },
  {
   "cell_type": "markdown",
   "metadata": {},
   "source": [
    "%% [markdown]<br>\n",
    "**Checkpoint**<br>\n",
    "<br>\n",
    "Run the cells below and verify that your table satisfies all the required properties"
   ]
  },
  {
   "cell_type": "markdown",
   "metadata": {},
   "source": [
    "%%"
   ]
  },
  {
   "cell_type": "markdown",
   "metadata": {},
   "source": [
    "query = \n",
    "<br>\n",
    "DESCRIBE {0}.sbb_orc<br>\n",
    "format(username)"
   ]
  },
  {
   "cell_type": "code",
   "execution_count": null,
   "metadata": {},
   "outputs": [],
   "source": [
    "cur.execute(query)\n",
    "cur.fetchall()"
   ]
  },
  {
   "cell_type": "markdown",
   "metadata": {},
   "source": [
    "%%"
   ]
  },
  {
   "cell_type": "markdown",
   "metadata": {},
   "source": [
    "query = \n",
    "<br>\n",
    "SHOW PARTITIONS {0}.sbb_orc<br>\n",
    "format(username)"
   ]
  },
  {
   "cell_type": "code",
   "execution_count": null,
   "metadata": {},
   "outputs": [],
   "source": [
    "cur.execute(query)\n",
    "cur.fetchall()"
   ]
  },
  {
   "cell_type": "markdown",
   "metadata": {},
   "source": [
    "%% [markdown]<br>\n",
    "### b) Type of transport - 5/40<br>\n",
    "<br>\n",
    "In the exercise of week-3, you have already explored the stop distribution of different types of transport on a small data set. Now, let's do the same for a full two years worth of data.<br>\n",
    "<br>\n",
    "- Query `sbb_orc` to get the total number of stops for different types of transport in each month of 2019 and 2020, and order it by time and type of transport.<br>\n",
    "|month_year|ttype|stops|<br>\n",
    "|---|---|---|<br>\n",
    "|...|...|...|<br>\n",
    "- Use `plotly` to create a facet bar chart partitioned by the type of transportation. <br>\n",
    "- Document any patterns or abnormalities you can find.<br>\n",
    "<br>\n",
    "__Note__: <br>\n",
    "- In general, one entry in the `sbb_orc` table means one stop.<br>\n",
    "- You might need to filter out the rows where:<br>\n",
    "    - `BETRIEBSTAG` is not in the format of `__.__.____`<br>\n",
    "    - `PRODUKT_ID` is NULL or empty<br>\n",
    "- Facet plot with plotly: https://plotly.com/python/facet-plots/"
   ]
  },
  {
   "cell_type": "markdown",
   "metadata": {},
   "source": [
    "%%<br>\n",
    "You may need more than one query, do not hesitate to create as many as you need.<br>\n",
    "# query = \n",
    "<br>\n",
    "#<br>\n",
    "#     /* TODO */<br>\n",
    "#<br>\n",
    "\n",
    "<br>\n",
    "cur.execute(query, conn)"
   ]
  },
  {
   "cell_type": "markdown",
   "metadata": {},
   "source": [
    "query = \n",
    "<br>\n",
    "    # TODO<br>\n",
    "    <br>\n",
    "format(username)"
   ]
  },
  {
   "cell_type": "code",
   "execution_count": null,
   "metadata": {},
   "outputs": [],
   "source": [
    "df_ttype = pd.read_sql(query, conn)"
   ]
  },
  {
   "cell_type": "markdown",
   "metadata": {},
   "source": [
    "%%"
   ]
  },
  {
   "cell_type": "code",
   "execution_count": null,
   "metadata": {},
   "outputs": [],
   "source": [
    "fig = px.bar(\n",
    "    df_ttype,\n",
    "    \n",
    "    # TODO\n",
    ")"
   ]
  },
  {
   "cell_type": "markdown",
   "metadata": {},
   "source": [
    "TODO: make your figure more readable"
   ]
  },
  {
   "cell_type": "code",
   "execution_count": null,
   "metadata": {},
   "outputs": [],
   "source": [
    "fig.show()"
   ]
  },
  {
   "cell_type": "markdown",
   "metadata": {},
   "source": [
    "%% [markdown]<br>\n",
    "### c) Schedule - 10/40<br>\n",
    "<br>\n",
    "- Select a any day on a typical week day (not Saturday, not Sunday, not a bank holiday) from `sbb_orc`. Query the table for that one-day and get the set of IC (`VERKEHRSMITTEL_TEXT`) trains you can take to go (without connections) from Gen猫ve to Lausanne on that day. <br>\n",
    "- Display the train number (`LINIEN_ID`) as well as the schedule (arrival and departure time) of the trains.<br>\n",
    "<br>\n",
    "|train_number|departure|arrival|<br>\n",
    "|---|---|---|<br>\n",
    "|...|...|...|<br>\n",
    "<br>\n",
    "__Note:__ <br>\n",
    "- The schedule of IC from Gen猫ve to Lausanne has not changed for the past few years. You can use the advanced search of SBB's website to check your answer.<br>\n",
    "- Do not hesitate to create intermediary tables or views (see [_CTAS_](https://cwiki.apache.org/confluence/display/Hive/LanguageManual+DDL#LanguageManualDDL-CreateTableAsSelect(CTAS)))<br>\n",
    "- You might need to add filters on these flags: `ZUSATZFAHRT_TF`, `FAELLT_AUS_TF`, `DURCHFAHRT_TF` <br>\n",
    "- Functions that could be useful: `unix_timestamp`, `to_utc_timestamp`, `date_format`."
   ]
  },
  {
   "cell_type": "markdown",
   "metadata": {},
   "source": [
    "%%<br>\n",
    "You may need more than one query, do not hesitate to create more"
   ]
  },
  {
   "cell_type": "markdown",
   "metadata": {},
   "source": [
    "# query = \n",
    "<br>\n",
    "#<br>\n",
    "#     TODO<br>\n",
    "#<br>\n",
    "\n",
    "<br>\n",
    "cur.execute(query, conn)"
   ]
  },
  {
   "cell_type": "markdown",
   "metadata": {},
   "source": [
    "query = \n",
    "<br>\n",
    "    <br>\n",
    "    # TODO<br>\n",
    "    <br>\n",
    "format(username)"
   ]
  },
  {
   "cell_type": "code",
   "execution_count": null,
   "metadata": {},
   "outputs": [],
   "source": [
    "pd.read_sql(query, conn)"
   ]
  },
  {
   "cell_type": "markdown",
   "metadata": {},
   "source": [
    "%%"
   ]
  },
  {
   "cell_type": "markdown",
   "metadata": {},
   "source": [
    "%%"
   ]
  },
  {
   "cell_type": "markdown",
   "metadata": {},
   "source": [
    "%%"
   ]
  },
  {
   "cell_type": "markdown",
   "metadata": {},
   "source": [
    "%% [markdown]<br>\n",
    "### d) Delay percentiles - 10/40<br>\n",
    "<br>\n",
    "- Query `sbb_orc` to compute the 50th and 75th percentiles of __arrival__ delays for IC 702, 704, ..., 728, 730 (15 trains total) at Gen猫ve main station. <br>\n",
    "- Use `plotly` to plot your results in a proper way. <br>\n",
    "- Which trains are the most disrupted? Can you find the tendency and interpret?<br>\n",
    "<br>\n",
    "__Note:__<br>\n",
    "- Do not hesitate to create intermediary tables. <br>\n",
    "- When the train is ahead of schedule, count this as a delay of 0.<br>\n",
    "- Use only stops with `AN_PROGNOSE_STATUS` equal to __REAL__ or __GESCHAETZT__.<br>\n",
    "- Functions that may be useful: `unix_timestamp`, `percentile_approx`, `if`"
   ]
  },
  {
   "cell_type": "markdown",
   "metadata": {},
   "source": [
    "%%<br>\n",
    "You may need more than one query, do not hesitate to create more"
   ]
  },
  {
   "cell_type": "markdown",
   "metadata": {},
   "source": [
    "# query = \n",
    "<br>\n",
    "#<br>\n",
    "#     TODO<br>\n",
    "#<br>\n",
    "\n",
    "<br>\n",
    "cur.execute(query, conn)"
   ]
  },
  {
   "cell_type": "markdown",
   "metadata": {},
   "source": [
    "query = \n",
    "<br>\n",
    "    # TODO<br>\n",
    "    <br>\n",
    "format(username)"
   ]
  },
  {
   "cell_type": "code",
   "execution_count": null,
   "metadata": {},
   "outputs": [],
   "source": [
    "df_delays_ic_gen = pd.read_sql(query, conn)"
   ]
  },
  {
   "cell_type": "markdown",
   "metadata": {},
   "source": [
    "%%"
   ]
  },
  {
   "cell_type": "markdown",
   "metadata": {},
   "source": [
    "%%"
   ]
  },
  {
   "cell_type": "code",
   "execution_count": null,
   "metadata": {},
   "outputs": [],
   "source": [
    "fig = px.bar(\n",
    "    df_delays_ic_gen, \n",
    "    \n",
    "    # TODO\n",
    ")"
   ]
  },
  {
   "cell_type": "markdown",
   "metadata": {},
   "source": [
    "TODO: make your figure more readable"
   ]
  },
  {
   "cell_type": "code",
   "execution_count": null,
   "metadata": {},
   "outputs": [],
   "source": [
    "fig.show()"
   ]
  },
  {
   "cell_type": "markdown",
   "metadata": {},
   "source": [
    "%% [markdown]<br>\n",
    "### e) Delay heatmap 10/40<br>\n",
    "<br>\n",
    "- For each week (1 to 52) of each year from 2019 to 2021, query `sbb_orc` to compute the median of delays of all trains __departing__ from any train stations in Z眉rich area during that week. <br>\n",
    "- Use `plotly` to draw a heatmap year x week (year columns x week rows) of the median delays. <br>\n",
    "- In which weeks were the trains delayed the most/least? Can you explain the results?<br>\n",
    "<br>\n",
    "__Note:__<br>\n",
    "- Do not hesitate to create intermediary tables. <br>\n",
    "- When the train is ahead of schedule, count this as a delay of 0 (no negative delays).<br>\n",
    "- Use only stops with `AB_PROGNOSE_STATUS` equal to __REAL__ or __GESCHAETZT__.<br>\n",
    "- For simplicty, a train station in Z眉rich area <=> it's a train station & its `HALTESTELLEN_NAME` starts with __Z眉rich__.<br>\n",
    "- Heatmap with `plotly`: https://plotly.com/python/heatmaps/<br>\n",
    "- Functions that may be useful: `unix_timestamp`, `from_unixtime`, `weekofyear`, `percentile_approx`, `if`"
   ]
  },
  {
   "cell_type": "markdown",
   "metadata": {},
   "source": [
    "%%<br>\n",
    "You may need more than one query, do not hesitate to create more"
   ]
  },
  {
   "cell_type": "markdown",
   "metadata": {},
   "source": [
    "# query = \n",
    "<br>\n",
    "#<br>\n",
    "#     TODO<br>\n",
    "#<br>\n",
    "\n",
    "<br>\n",
    "cur.execute(query, conn)"
   ]
  },
  {
   "cell_type": "markdown",
   "metadata": {},
   "source": [
    "query = \n",
    "<br>\n",
    "    # TODO<br>\n",
    "format(username)"
   ]
  },
  {
   "cell_type": "code",
   "execution_count": null,
   "metadata": {},
   "outputs": [],
   "source": [
    "df_delays_zurich = pd.read_sql(query, conn)"
   ]
  },
  {
   "cell_type": "markdown",
   "metadata": {},
   "source": [
    "%%"
   ]
  },
  {
   "cell_type": "markdown",
   "metadata": {},
   "source": [
    "%%"
   ]
  },
  {
   "cell_type": "markdown",
   "metadata": {},
   "source": [
    "%%"
   ]
  },
  {
   "cell_type": "code",
   "execution_count": null,
   "metadata": {},
   "outputs": [],
   "source": [
    "fig = px.imshow(\n",
    "    df_delays_zurich,\n",
    "    \n",
    "    # TODO\n",
    "    \n",
    ")"
   ]
  },
  {
   "cell_type": "markdown",
   "metadata": {},
   "source": [
    "TODO: make your figure more readable"
   ]
  },
  {
   "cell_type": "code",
   "execution_count": null,
   "metadata": {},
   "outputs": [],
   "source": [
    "fig.show()"
   ]
  },
  {
   "cell_type": "markdown",
   "metadata": {},
   "source": [
    "%% [markdown]<br>\n",
    "## Part II: Twitter Data (20 Points)<br>\n",
    "<br>\n",
    "Data source: https://archive.org/details/twitterstream?sort=-publicdate <br>\n",
    "<br>\n",
    "In this part, you will leverage Hive to extract the hashtags from the source data, and then perform light exploration of the prepared data. <br>\n",
    "<br>\n",
    "### Dataset Description <br>\n",
    "<br>\n",
    "Format: the dataset is presented as a collection of textfiles containing one JSON document per line. The data is organized in a hierarchy of folders, with one file per minute. The textfiles have been compressed using bzip2. In this part, we will mainly focus on __2016 twitter data__.<br>\n",
    "<br>\n",
    "Location: you can find the data on HDFS at the path `/data/twitter/json/year={year}/month={month}/day={day}/{hour}/{minute}.json.bz2`. <br>\n",
    "<br>\n",
    "Relevant fields: <br>\n",
    "- `created_at`, `timestamp_ms`: The first is a human-readable string representation of when the tweet was posted. The latter represents the same instant as a timestamp since UNIX epoch.<br>\n",
    "- `lang`: the language of the tweet content <br>\n",
    "- `entities`: parsed entities from the tweet, e.g. hashtags, user mentions, URLs.<br>\n",
    "- In this repository, you can find [a tweet example](../data/tweet-example.json).<br>\n",
    "<br>\n",
    "Note:  Pay attention to the time units! and check the Date-Time functions in the Hive [_UDF_](https://cwiki.apache.org/confluence/display/hive/Languagemanual+udf#LanguageManualUDF-DateFunctions) documentation."
   ]
  },
  {
   "cell_type": "markdown",
   "metadata": {},
   "source": [
    "%% [markdown]<br>\n",
    "<div style=\"font-size: 100%\" class=\"alert alert-block alert-danger\"><br>\n",
    "    <b>Disclaimer</b><br>\n",
    "    <br><br>\n",
    "    This dataset contains unfiltered data from Twitter. As such, you may be exposed to tweets/hashtags containing vulgarities, references to sexual acts, drug usage, etc.<br>\n",
    "    </div>"
   ]
  },
  {
   "cell_type": "markdown",
   "metadata": {},
   "source": [
    "%% [markdown]<br>\n",
    "### a) JsonSerDe - 4/20<br>\n",
    "<br>\n",
    "In the exercise of week 4, you have already seen how to use the [SerDe framework](https://cwiki.apache.org/confluence/display/Hive/LanguageManual+DDL#LanguageManualDDL-RowFormats&SerDe) to extract JSON fields from raw text format. <br>\n",
    "<br>\n",
    "In this question, please use SerDe to create an <font color=\"red\" size=\"3px\">EXTERNAL</font> table with __one day__ (e.g. 01.07.2016) of twitter data. You only need to extract three columns: `timestamp_ms`, `lang` and `entities`(with the field `hashtags` only) with following schema (you need to figure out what to fill in `TODO`):<br>\n",
    "```<br>\n",
    "timestamp_ms string,<br>\n",
    "lang         string,<br>\n",
    "entities     struct<hashtags:array<...<text:..., indices:...>>><br>\n",
    "```<br>\n",
    "<br>\n",
    "The table you create should be similar to:<br>\n",
    "<br>\n",
    "| timestamp_ms | lang | entities |<br>\n",
    "|---|---|---|<br>\n",
    "| 1234567890001 | en | {\"hashtags\":[]} |<br>\n",
    "| 1234567890002 | fr | {\"hashtags\":[{\"text\":\"hashtag1\",\"indices\":[10]}]} |<br>\n",
    "| 1234567890002 | jp | {\"hashtags\":[{\"text\":\"hashtag1\",\"indices\":[14,23]}, {\"text\":\"hashtag2\",\"indices\":[45]}]} |<br>\n",
    "<br>\n",
    "__Note:__<br>\n",
    "   - JsonSerDe: https://cwiki.apache.org/confluence/display/Hive/LanguageManual+DDL#LanguageManualDDL-RowFormats&SerDe<br>\n",
    "   - Hive data types: https://cwiki.apache.org/confluence/display/Hive/LanguageManual+Types#LanguageManualTypes<br>\n",
    "   - Hive complex types: https://cwiki.apache.org/confluence/display/Hive/LanguageManual+Types#LanguageManualTypes-ComplexTypes"
   ]
  },
  {
   "cell_type": "markdown",
   "metadata": {},
   "source": [
    "%%"
   ]
  },
  {
   "cell_type": "markdown",
   "metadata": {},
   "source": [
    "query=\n",
    "<br>\n",
    "    DROP TABLE IF EXISTS {0}.twitter_hashtags<br>\n",
    "format(username)"
   ]
  },
  {
   "cell_type": "code",
   "execution_count": null,
   "metadata": {},
   "outputs": [],
   "source": [
    "cur.execute(query)"
   ]
  },
  {
   "cell_type": "markdown",
   "metadata": {},
   "source": [
    "query=\n",
    "<br>\n",
    "    CREATE EXTERNAL TABLE {0}.twitter_hashtags<br>\n",
    "        <br>\n",
    "    # TODO<br>\n",
    "format(username)"
   ]
  },
  {
   "cell_type": "code",
   "execution_count": null,
   "metadata": {},
   "outputs": [],
   "source": [
    "cur.execute(query)"
   ]
  },
  {
   "cell_type": "markdown",
   "metadata": {},
   "source": [
    "%%"
   ]
  },
  {
   "cell_type": "markdown",
   "metadata": {},
   "source": [
    "query=\n",
    "<br>\n",
    "    # TODO<br>\n",
    "format(username)"
   ]
  },
  {
   "cell_type": "code",
   "execution_count": null,
   "metadata": {},
   "outputs": [],
   "source": [
    "cur.execute(query)"
   ]
  },
  {
   "cell_type": "markdown",
   "metadata": {},
   "source": [
    "%%"
   ]
  },
  {
   "cell_type": "markdown",
   "metadata": {},
   "source": [
    "query=\n",
    "<br>\n",
    "    SELECT<br>\n",
    "    # TODO<br>\n",
    "    <br>\n",
    "    FROM {0}.twitter_hashtags<br>\n",
    "    <br>\n",
    "    WHERE<br>\n",
    "    # TODO<br>\n",
    "    <br>\n",
    "    LIMIT 10<br>\n",
    "format(username)"
   ]
  },
  {
   "cell_type": "code",
   "execution_count": null,
   "metadata": {},
   "outputs": [],
   "source": [
    "pd.read_sql(query, conn)"
   ]
  },
  {
   "cell_type": "markdown",
   "metadata": {},
   "source": [
    "%% [markdown]<br>\n",
    "### b) Explosion - 4/20<br>\n",
    "<br>\n",
    "In a), you created a table where each row could contain a list of multiple hashtags. Create another table **containing one day of data only** by normalizing the table obtained from the previous step. This means that each row should contain exactly one hashtag. Include `timestamp_ms` and `lang` in the resulting table, as shown below.<br>\n",
    "<br>\n",
    "| timestamp_ms | lang | hashtag |<br>\n",
    "|---|---|---|<br>\n",
    "| 1234567890001 | es | hashtag1 |<br>\n",
    "| 1234567890001 | es | hashtag2 |<br>\n",
    "| 1234567890002 | en | hashtag2 |<br>\n",
    "| 1234567890003 | zh | hashtag3 |<br>\n",
    "<br>\n",
    "__Note:__<br>\n",
    "   - `LateralView`: https://cwiki.apache.org/confluence/display/Hive/LanguageManual+LateralView<br>\n",
    "   - `explode` function: <https://cwiki.apache.org/confluence/display/Hive/LanguageManual+UDF#LanguageManualUDF-explode>"
   ]
  },
  {
   "cell_type": "markdown",
   "metadata": {},
   "source": [
    "%%"
   ]
  },
  {
   "cell_type": "markdown",
   "metadata": {},
   "source": [
    "query=\n",
    "<br>\n",
    "    DROP TABLE IF EXISTS {0}.twitter_hashtags_norm<br>\n",
    "format(username)"
   ]
  },
  {
   "cell_type": "code",
   "execution_count": null,
   "metadata": {},
   "outputs": [],
   "source": [
    "cur.execute(query)"
   ]
  },
  {
   "cell_type": "markdown",
   "metadata": {},
   "source": [
    "query=\n",
    "<br>\n",
    "    CREATE TABLE IF NOT EXISTS {0}.twitter_hashtags_norm<br>\n",
    "    STORED AS ORC<br>\n",
    "    AS<br>\n",
    "        <br>\n",
    "        # TODO<br>\n",
    "        <br>\n",
    "format(username)"
   ]
  },
  {
   "cell_type": "code",
   "execution_count": null,
   "metadata": {},
   "outputs": [],
   "source": [
    "cur.execute(query)"
   ]
  },
  {
   "cell_type": "markdown",
   "metadata": {},
   "source": [
    "%%"
   ]
  },
  {
   "cell_type": "markdown",
   "metadata": {},
   "source": [
    "query=\n",
    "<br>\n",
    "    SELECT * FROM {0}.twitter_hashtags_norm LIMIT 10<br>\n",
    "format(username)"
   ]
  },
  {
   "cell_type": "code",
   "execution_count": null,
   "metadata": {},
   "outputs": [],
   "source": [
    "pd.read_sql(query, conn)"
   ]
  },
  {
   "cell_type": "markdown",
   "metadata": {},
   "source": [
    "%% [markdown]<br>\n",
    "### c) Hashtags - 8/20<br>\n",
    "<br>\n",
    "Query the normailized table you obtained in b). Create a table of the top 20 most mentioned hashtags with the contribution of each language. And, for each hashtag, order languages by their contributions. You should have a table similar to:<br>\n",
    "<br>\n",
    "|hashtag|lang|lang_count|total_count|<br>\n",
    "|---|---|---|---|<br>\n",
    "|hashtag_1|en|2000|3500|<br>\n",
    "|hashtag_1|fr|1000|3500|<br>\n",
    "|hashtag_1|jp|500|3500|<br>\n",
    "|hashtag_2|te|500|500|<br>\n",
    "<br>\n",
    "Use `plotly` to create a stacked bar chart to show the results.<br>\n",
    "<br>\n",
    "__Note:__ to properly order the bars, you may need:<br>\n",
    "```python<br>\n",
    "fig.update_layout(xaxis_categoryorder = 'total descending')<br>\n",
    "```"
   ]
  },
  {
   "cell_type": "markdown",
   "metadata": {},
   "source": [
    "%%<br>\n",
    "You may need more than one query, do not hesitate to create more<br>\n",
    "# query = \n",
    "<br>\n",
    "#<br>\n",
    "#     TODO<br>\n",
    "#<br>\n",
    "\n",
    "<br>\n",
    "cur.execute(query, conn)"
   ]
  },
  {
   "cell_type": "markdown",
   "metadata": {},
   "source": [
    "query=\n",
    "<br>\n",
    "    <br>\n",
    "    # TODO<br>\n",
    "    <br>\n",
    "format(username)"
   ]
  },
  {
   "cell_type": "code",
   "execution_count": null,
   "metadata": {},
   "outputs": [],
   "source": [
    "cur.execute(query)"
   ]
  },
  {
   "cell_type": "markdown",
   "metadata": {},
   "source": [
    "%%"
   ]
  },
  {
   "cell_type": "markdown",
   "metadata": {},
   "source": [
    "query=\n",
    "<br>\n",
    "    <br>\n",
    "    # TODO<br>\n",
    "    <br>\n",
    "format(username)"
   ]
  },
  {
   "cell_type": "code",
   "execution_count": null,
   "metadata": {},
   "outputs": [],
   "source": [
    "df_hashtag = pd.read_sql(query, conn)"
   ]
  },
  {
   "cell_type": "markdown",
   "metadata": {},
   "source": [
    "%%"
   ]
  },
  {
   "cell_type": "markdown",
   "metadata": {},
   "source": [
    "%%"
   ]
  },
  {
   "cell_type": "code",
   "execution_count": null,
   "metadata": {},
   "outputs": [],
   "source": [
    "fig = px.bar(\n",
    "    df_hashtag,\n",
    "    \n",
    "    # TODO"
   ]
  },
  {
   "cell_type": "code",
   "execution_count": null,
   "metadata": {},
   "outputs": [],
   "source": [
    ")"
   ]
  },
  {
   "cell_type": "markdown",
   "metadata": {},
   "source": [
    "TODO: make your figure more readable"
   ]
  },
  {
   "cell_type": "code",
   "execution_count": null,
   "metadata": {},
   "outputs": [],
   "source": [
    "fig.show()"
   ]
  },
  {
   "cell_type": "markdown",
   "metadata": {},
   "source": [
    "%% [markdown]<br>\n",
    "### d) HBase - 4/20<br>\n",
    "<br>\n",
    "In the lecture and exercise of week-4, you have learnt what's HBase, how to create an Hbase table and how to create an external Hive table on top of the HBase table. Now, let's try to save the results of question c) into HBase, such that each entry looks like:<br>\n",
    "```<br>\n",
    "(b'PIE', {b'cf1:total_count': b'31415926', b'cf2:langs': b'ja,en,ko,fr'})<br>\n",
    "``` <br>\n",
    "where the key is the hashtag, `total_count` is the total count of the hashtag, and `langs` is a string of  unique language abbreviations concatenated with commas. <br>\n",
    "<br>\n",
    "__Note:__<br>\n",
    "- To accomplish the task, you need to follow these steps:<br>\n",
    "    - Create an Hbase table called `twitter_hbase`, in **your hbase namespace**, with two column families and fields (cf1, cf2)<br>\n",
    "    - Create an external Hive table called `twitter_hive_on_hbase` on top of the Hbase table. <br>\n",
    "    - Populate the HBase table with the results of question c).<br>\n",
    "- You may find function `concat_ws` and `collect_list` useful."
   ]
  },
  {
   "cell_type": "markdown",
   "metadata": {},
   "source": [
    "%%"
   ]
  },
  {
   "cell_type": "code",
   "execution_count": null,
   "metadata": {},
   "outputs": [],
   "source": [
    "import happybase\n",
    "hbaseaddr = os.environ['HBASE_SERVER']\n",
    "hbase_connection = happybase.Connection(hbaseaddr, transport='framed',protocol='compact')"
   ]
  },
  {
   "cell_type": "markdown",
   "metadata": {},
   "source": [
    "%%<br>\n",
    "TODO"
   ]
  },
  {
   "cell_type": "markdown",
   "metadata": {},
   "source": [
    "%%"
   ]
  },
  {
   "cell_type": "markdown",
   "metadata": {},
   "source": [
    "%%"
   ]
  },
  {
   "cell_type": "markdown",
   "metadata": {},
   "source": [
    "%%"
   ]
  },
  {
   "cell_type": "markdown",
   "metadata": {},
   "source": [
    "%%"
   ]
  },
  {
   "cell_type": "markdown",
   "metadata": {},
   "source": [
    "%% [markdown]<br>\n",
    "# That's all, folks!"
   ]
  }
 ],
 "metadata": {
  "kernelspec": {
   "display_name": "Python 3 (ipykernel)",
   "language": "python",
   "name": "python3"
  },
  "language_info": {
   "codemirror_mode": {
    "name": "ipython",
    "version": 3
   },
   "file_extension": ".py",
   "mimetype": "text/x-python",
   "name": "python",
   "nbconvert_exporter": "python",
   "pygments_lexer": "ipython3",
   "version": "3.9.7"
  }
 },
 "nbformat": 4,
 "nbformat_minor": 4
}
